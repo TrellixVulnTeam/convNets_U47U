{
 "cells": [
  {
   "cell_type": "markdown",
   "metadata": {
    "nbpresent": {
     "id": "c1f1ff56-1fe4-4242-b5f3-f09efcf187c2"
    },
    "slideshow": {
     "slide_type": "slide"
    }
   },
   "source": [
    "Theano \n",
    "===\n",
    "An optimizing compiler for symbolic math expressions"
   ]
  },
  {
   "cell_type": "code",
   "execution_count": 37,
   "metadata": {
    "collapsed": false,
    "nbpresent": {
     "id": "46e76e4a-a3ce-4136-bcbb-2f7a490600b1"
    },
    "slideshow": {
     "slide_type": "fragment"
    }
   },
   "outputs": [],
   "source": [
    "import theano\n",
    "import theano.tensor as T"
   ]
  },
  {
   "cell_type": "markdown",
   "metadata": {
    "nbpresent": {
     "id": "3fc5ceed-b4cb-47ff-9c90-d0e4c72e87e8"
    },
    "slideshow": {
     "slide_type": "slide"
    }
   },
   "source": [
    "Symbolic variables\n",
    "=========="
   ]
  },
  {
   "cell_type": "code",
   "execution_count": 38,
   "metadata": {
    "collapsed": false,
    "nbpresent": {
     "id": "9cd6df08-b05f-4827-b3f3-c689c046f8f8"
    },
    "slideshow": {
     "slide_type": "fragment"
    }
   },
   "outputs": [],
   "source": [
    "x = T.scalar()"
   ]
  },
  {
   "cell_type": "code",
   "execution_count": 39,
   "metadata": {
    "collapsed": false,
    "nbpresent": {
     "id": "708c7488-aaa6-4f61-8f68-902eee47e191"
    },
    "slideshow": {
     "slide_type": "fragment"
    }
   },
   "outputs": [
    {
     "data": {
      "text/plain": [
       "<TensorType(float32, scalar)>"
      ]
     },
     "execution_count": 39,
     "metadata": {},
     "output_type": "execute_result"
    }
   ],
   "source": [
    "x"
   ]
  },
  {
   "cell_type": "markdown",
   "metadata": {
    "nbpresent": {
     "id": "ea47591a-d4db-422c-94c5-52c4538dfbb4"
    },
    "slideshow": {
     "slide_type": "slide"
    }
   },
   "source": [
    "Variables can be used in expressions"
   ]
  },
  {
   "cell_type": "code",
   "execution_count": 40,
   "metadata": {
    "collapsed": false,
    "nbpresent": {
     "id": "cd699364-234f-4517-863d-20418ddcfa66"
    },
    "slideshow": {
     "slide_type": "-"
    }
   },
   "outputs": [
    {
     "name": "stdout",
     "output_type": "stream",
     "text": [
      "this is a test\n"
     ]
    }
   ],
   "source": [
    "y = 3*(x**2) + 1"
   ]
  },
  {
   "cell_type": "markdown",
   "metadata": {
    "nbpresent": {
     "id": "3abeafe6-2cf4-4a36-b813-10afa924b3f4"
    },
    "slideshow": {
     "slide_type": "fragment"
    }
   },
   "source": [
    "Result is symbolic as well"
   ]
  },
  {
   "cell_type": "code",
   "execution_count": 41,
   "metadata": {
    "collapsed": false,
    "nbpresent": {
     "id": "5e701246-627c-44bd-a80d-34ecb46b6461"
    },
    "slideshow": {
     "slide_type": "-"
    }
   },
   "outputs": [
    {
     "data": {
      "text/plain": [
       "theano.tensor.var.TensorVariable"
      ]
     },
     "execution_count": 41,
     "metadata": {},
     "output_type": "execute_result"
    }
   ],
   "source": [
    "type(y)  \n"
   ]
  },
  {
   "cell_type": "markdown",
   "metadata": {
    "nbpresent": {
     "id": "6a4712e6-7501-492f-b0d5-9e8c8602ddc2"
    },
    "slideshow": {
     "slide_type": "slide"
    }
   },
   "source": [
    "Investigating expressions"
   ]
  },
  {
   "cell_type": "code",
   "execution_count": 42,
   "metadata": {
    "collapsed": false,
    "nbpresent": {
     "id": "285625fb-edca-42fb-8569-8450dbd97375"
    },
    "slideshow": {
     "slide_type": "fragment"
    }
   },
   "outputs": [
    {
     "name": "stdout",
     "output_type": "stream",
     "text": [
      "Elemwise{add,no_inplace}.0\n"
     ]
    }
   ],
   "source": [
    "print(y)"
   ]
  },
  {
   "cell_type": "code",
   "execution_count": 43,
   "metadata": {
    "collapsed": false,
    "nbpresent": {
     "id": "511090a2-7c37-419d-b0d5-4893ba500280"
    },
    "slideshow": {
     "slide_type": "fragment"
    }
   },
   "outputs": [
    {
     "data": {
      "text/plain": [
       "'((TensorConstant{3} * (<TensorType(float32, scalar)> ** TensorConstant{2})) + TensorConstant{1})'"
      ]
     },
     "execution_count": 43,
     "metadata": {},
     "output_type": "execute_result"
    }
   ],
   "source": [
    "theano.pprint(y)"
   ]
  },
  {
   "cell_type": "code",
   "execution_count": 44,
   "metadata": {
    "collapsed": false,
    "nbpresent": {
     "id": "87785f6d-eb6b-48d4-aabe-f28e827eef41"
    },
    "slideshow": {
     "slide_type": "fragment"
    }
   },
   "outputs": [
    {
     "name": "stdout",
     "output_type": "stream",
     "text": [
      "Elemwise{add,no_inplace} [id A] ''   \n",
      " |Elemwise{mul,no_inplace} [id B] ''   \n",
      " | |TensorConstant{3} [id C]\n",
      " | |Elemwise{pow,no_inplace} [id D] ''   \n",
      " |   |<TensorType(float32, scalar)> [id E]\n",
      " |   |TensorConstant{2} [id F]\n",
      " |TensorConstant{1} [id G]\n"
     ]
    }
   ],
   "source": [
    "theano.printing.debugprint(y)"
   ]
  },
  {
   "cell_type": "code",
   "execution_count": 45,
   "metadata": {
    "collapsed": false,
    "nbpresent": {
     "id": "4b0ef215-18cd-4a16-9e78-e59242b4c105"
    },
    "slideshow": {
     "slide_type": "slide"
    }
   },
   "outputs": [
    {
     "data": {
      "image/svg+xml": [
       "<svg height=\"378pt\" viewBox=\"0.00 0.00 707.00 378.00\" width=\"707pt\" xmlns=\"http://www.w3.org/2000/svg\" xmlns:xlink=\"http://www.w3.org/1999/xlink\">\n",
       "<g class=\"graph\" id=\"graph0\" transform=\"scale(1 1) rotate(0) translate(4 374)\">\n",
       "<title>G</title>\n",
       "<polygon fill=\"white\" points=\"-4,4 -4,-374 703,-374 703,4 -4,4\" stroke=\"none\"/>\n",
       "<!-- 139822790208208 -->\n",
       "<g class=\"node\" id=\"node1\"><title>139822790208208</title>\n",
       "<ellipse cx=\"496\" cy=\"-265\" fill=\"#ffaabb\" rx=\"114.28\" ry=\"18\" stroke=\"black\"/>\n",
       "<text font-family=\"Times,serif\" font-size=\"14.00\" text-anchor=\"middle\" x=\"496\" y=\"-261.3\">Elemwise{pow,no_inplace}</text>\n",
       "</g>\n",
       "<!-- 139822788356624 -->\n",
       "<g class=\"node\" id=\"node4\"><title>139822788356624</title>\n",
       "<ellipse cx=\"330\" cy=\"-178\" fill=\"#ffaabb\" rx=\"112.38\" ry=\"18\" stroke=\"black\"/>\n",
       "<text font-family=\"Times,serif\" font-size=\"14.00\" text-anchor=\"middle\" x=\"330\" y=\"-174.3\">Elemwise{mul,no_inplace}</text>\n",
       "</g>\n",
       "<!-- 139822790208208&#45;&gt;139822788356624 -->\n",
       "<g class=\"edge\" id=\"edge4\"><title>139822790208208-&gt;139822788356624</title>\n",
       "<path d=\"M463.994,-247.611C437.469,-234.029 399.601,-214.639 370.884,-199.935\" fill=\"none\" stroke=\"black\"/>\n",
       "<polygon fill=\"black\" points=\"372.404,-196.781 361.908,-195.339 369.214,-203.012 372.404,-196.781\" stroke=\"black\"/>\n",
       "<text font-family=\"Times,serif\" font-size=\"14.00\" text-anchor=\"middle\" x=\"506.5\" y=\"-217.8\">1 TensorType(float32, scalar)</text>\n",
       "</g>\n",
       "<!-- 139822790207056 -->\n",
       "<g class=\"node\" id=\"node2\"><title>139822790207056</title>\n",
       "<polygon fill=\"green\" points=\"480.5,-370 305.5,-370 305.5,-334 480.5,-334 480.5,-370\" stroke=\"black\"/>\n",
       "<text font-family=\"Times,serif\" font-size=\"14.00\" text-anchor=\"middle\" x=\"393\" y=\"-348.3\">TensorType(float32, scalar)</text>\n",
       "</g>\n",
       "<!-- 139822790207056&#45;&gt;139822790208208 -->\n",
       "<g class=\"edge\" id=\"edge1\"><title>139822790207056-&gt;139822790208208</title>\n",
       "<path d=\"M413.844,-333.799C429.302,-321.042 450.553,-303.504 467.57,-289.462\" fill=\"none\" stroke=\"black\"/>\n",
       "<polygon fill=\"black\" points=\"470.054,-291.95 475.539,-282.885 465.598,-286.551 470.054,-291.95\" stroke=\"black\"/>\n",
       "<text font-family=\"Times,serif\" font-size=\"14.00\" text-anchor=\"middle\" x=\"454.5\" y=\"-304.8\">0</text>\n",
       "</g>\n",
       "<!-- 139822790205584 -->\n",
       "<g class=\"node\" id=\"node3\"><title>139822790205584</title>\n",
       "<polygon fill=\"green\" points=\"699,-370 499,-370 499,-334 699,-334 699,-370\" stroke=\"black\"/>\n",
       "<text font-family=\"Times,serif\" font-size=\"14.00\" text-anchor=\"middle\" x=\"599\" y=\"-348.3\">val=2 TensorType(int16, scalar)</text>\n",
       "</g>\n",
       "<!-- 139822790205584&#45;&gt;139822790208208 -->\n",
       "<g class=\"edge\" id=\"edge2\"><title>139822790205584-&gt;139822790208208</title>\n",
       "<path d=\"M578.156,-333.799C562.698,-321.042 541.447,-303.504 524.43,-289.462\" fill=\"none\" stroke=\"black\"/>\n",
       "<polygon fill=\"black\" points=\"526.402,-286.551 516.461,-282.885 521.946,-291.95 526.402,-286.551\" stroke=\"black\"/>\n",
       "<text font-family=\"Times,serif\" font-size=\"14.00\" text-anchor=\"middle\" x=\"556.5\" y=\"-304.8\">1</text>\n",
       "</g>\n",
       "<!-- 139822788356880 -->\n",
       "<g class=\"node\" id=\"node6\"><title>139822788356880</title>\n",
       "<ellipse cx=\"165\" cy=\"-91\" fill=\"#ffaabb\" rx=\"112.38\" ry=\"18\" stroke=\"black\"/>\n",
       "<text font-family=\"Times,serif\" font-size=\"14.00\" text-anchor=\"middle\" x=\"165\" y=\"-87.3\">Elemwise{add,no_inplace}</text>\n",
       "</g>\n",
       "<!-- 139822788356624&#45;&gt;139822788356880 -->\n",
       "<g class=\"edge\" id=\"edge5\"><title>139822788356624-&gt;139822788356880</title>\n",
       "<path d=\"M298.186,-160.611C271.822,-147.029 234.182,-127.639 205.638,-112.935\" fill=\"none\" stroke=\"black\"/>\n",
       "<polygon fill=\"black\" points=\"207.209,-109.807 196.716,-108.339 204.003,-116.03 207.209,-109.807\" stroke=\"black\"/>\n",
       "<text font-family=\"Times,serif\" font-size=\"14.00\" text-anchor=\"middle\" x=\"342.5\" y=\"-130.8\">0 TensorType(float32, scalar)</text>\n",
       "</g>\n",
       "<!-- 139822790208976 -->\n",
       "<g class=\"node\" id=\"node5\"><title>139822790208976</title>\n",
       "<polygon fill=\"green\" points=\"364,-283 164,-283 164,-247 364,-247 364,-283\" stroke=\"black\"/>\n",
       "<text font-family=\"Times,serif\" font-size=\"14.00\" text-anchor=\"middle\" x=\"264\" y=\"-261.3\">val=3 TensorType(int16, scalar)</text>\n",
       "</g>\n",
       "<!-- 139822790208976&#45;&gt;139822788356624 -->\n",
       "<g class=\"edge\" id=\"edge3\"><title>139822790208976-&gt;139822788356624</title>\n",
       "<path d=\"M277.356,-246.799C286.901,-234.506 299.893,-217.774 310.583,-204.007\" fill=\"none\" stroke=\"black\"/>\n",
       "<polygon fill=\"black\" points=\"313.52,-205.93 316.889,-195.885 307.992,-201.637 313.52,-205.93\" stroke=\"black\"/>\n",
       "<text font-family=\"Times,serif\" font-size=\"14.00\" text-anchor=\"middle\" x=\"304.5\" y=\"-217.8\">0</text>\n",
       "</g>\n",
       "<!-- 139822788356368 -->\n",
       "<g class=\"node\" id=\"node8\"><title>139822788356368</title>\n",
       "<polygon fill=\"blue\" points=\"252.5,-36 77.5,-36 77.5,-0 252.5,-0 252.5,-36\" stroke=\"black\"/>\n",
       "<text font-family=\"Times,serif\" font-size=\"14.00\" text-anchor=\"middle\" x=\"165\" y=\"-14.3\">TensorType(float32, scalar)</text>\n",
       "</g>\n",
       "<!-- 139822788356880&#45;&gt;139822788356368 -->\n",
       "<g class=\"edge\" id=\"edge7\"><title>139822788356880-&gt;139822788356368</title>\n",
       "<path d=\"M165,-72.8129C165,-64.7895 165,-55.0475 165,-46.0691\" fill=\"none\" stroke=\"black\"/>\n",
       "<polygon fill=\"black\" points=\"168.5,-46.0288 165,-36.0288 161.5,-46.0289 168.5,-46.0288\" stroke=\"black\"/>\n",
       "</g>\n",
       "<!-- 139822790206160 -->\n",
       "<g class=\"node\" id=\"node7\"><title>139822790206160</title>\n",
       "<polygon fill=\"green\" points=\"200,-196 0,-196 0,-160 200,-160 200,-196\" stroke=\"black\"/>\n",
       "<text font-family=\"Times,serif\" font-size=\"14.00\" text-anchor=\"middle\" x=\"100\" y=\"-174.3\">val=1 TensorType(int16, scalar)</text>\n",
       "</g>\n",
       "<!-- 139822790206160&#45;&gt;139822788356880 -->\n",
       "<g class=\"edge\" id=\"edge6\"><title>139822790206160-&gt;139822788356880</title>\n",
       "<path d=\"M113.154,-159.799C122.554,-147.506 135.35,-130.774 145.877,-117.007\" fill=\"none\" stroke=\"black\"/>\n",
       "<polygon fill=\"black\" points=\"148.793,-118.955 152.088,-108.885 143.233,-114.703 148.793,-118.955\" stroke=\"black\"/>\n",
       "<text font-family=\"Times,serif\" font-size=\"14.00\" text-anchor=\"middle\" x=\"140.5\" y=\"-130.8\">1</text>\n",
       "</g>\n",
       "</g>\n",
       "</svg>"
      ],
      "text/plain": [
       "<IPython.core.display.SVG object>"
      ]
     },
     "execution_count": 45,
     "metadata": {},
     "output_type": "execute_result"
    }
   ],
   "source": [
    "from IPython.display import SVG\n",
    "SVG(theano.printing.pydotprint(y, return_image=True, format='svg'))"
   ]
  },
  {
   "cell_type": "markdown",
   "metadata": {
    "nbpresent": {
     "id": "0e40ab9d-af02-4d69-8dc8-14c0b04c87d2"
    },
    "slideshow": {
     "slide_type": "slide"
    }
   },
   "source": [
    "Evaluating expressions\n",
    "============\n",
    "\n",
    "Supply a `dict` mapping variables to values"
   ]
  },
  {
   "cell_type": "code",
   "execution_count": 46,
   "metadata": {
    "collapsed": false,
    "nbpresent": {
     "id": "3767064a-fa6d-4522-a447-cbacded23b00"
    }
   },
   "outputs": [
    {
     "data": {
      "text/plain": [
       "array(30001.0, dtype=float32)"
      ]
     },
     "execution_count": 46,
     "metadata": {},
     "output_type": "execute_result"
    }
   ],
   "source": [
    "y.eval({x: 100})"
   ]
  },
  {
   "cell_type": "markdown",
   "metadata": {
    "nbpresent": {
     "id": "4d873e24-cf98-490d-9d24-1b0c74e91cd6"
    },
    "slideshow": {
     "slide_type": "slide"
    }
   },
   "source": [
    "Or compile a function"
   ]
  },
  {
   "cell_type": "code",
   "execution_count": 47,
   "metadata": {
    "collapsed": true,
    "nbpresent": {
     "id": "40dbaf6e-6fb3-48ee-b44f-b102accaef71"
    }
   },
   "outputs": [],
   "source": [
    "f = theano.function([x], y)"
   ]
  },
  {
   "cell_type": "code",
   "execution_count": 48,
   "metadata": {
    "collapsed": false,
    "nbpresent": {
     "id": "2f42c44d-9139-48e4-aa2a-5447f3c554b8"
    },
    "slideshow": {
     "slide_type": "fragment"
    }
   },
   "outputs": [
    {
     "data": {
      "text/plain": [
       "array(1201.0, dtype=float32)"
      ]
     },
     "execution_count": 48,
     "metadata": {},
     "output_type": "execute_result"
    }
   ],
   "source": [
    "f(20)"
   ]
  },
  {
   "cell_type": "markdown",
   "metadata": {
    "nbpresent": {
     "id": "83c37674-db7b-47b4-a10e-92ef0419ad0a"
    },
    "slideshow": {
     "slide_type": "slide"
    }
   },
   "source": [
    "Compiled function has been transformed"
   ]
  },
  {
   "cell_type": "code",
   "execution_count": 49,
   "metadata": {
    "collapsed": false,
    "nbpresent": {
     "id": "ec347902-1df2-4d74-97bb-e6a889681318"
    },
    "slideshow": {
     "slide_type": "fragment"
    }
   },
   "outputs": [
    {
     "data": {
      "image/svg+xml": [
       "<svg height=\"204pt\" viewBox=\"0.00 0.00 661.00 204.00\" width=\"661pt\" xmlns=\"http://www.w3.org/2000/svg\" xmlns:xlink=\"http://www.w3.org/1999/xlink\">\n",
       "<g class=\"graph\" id=\"graph0\" transform=\"scale(1 1) rotate(0) translate(4 200)\">\n",
       "<title>G</title>\n",
       "<polygon fill=\"white\" points=\"-4,4 -4,-200 657,-200 657,4 -4,4\" stroke=\"none\"/>\n",
       "<!-- 139822773651344 -->\n",
       "<g class=\"node\" id=\"node1\"><title>139822773651344</title>\n",
       "<ellipse cx=\"349.5\" cy=\"-91\" fill=\"#ffaabb\" rx=\"176.569\" ry=\"18\" stroke=\"black\"/>\n",
       "<text font-family=\"Times,serif\" font-size=\"14.00\" text-anchor=\"middle\" x=\"349.5\" y=\"-87.3\">Elemwise{Composite{(i0 + (i1 * sqr(i2)))}}</text>\n",
       "</g>\n",
       "<!-- 139822773651024 -->\n",
       "<g class=\"node\" id=\"node5\"><title>139822773651024</title>\n",
       "<polygon fill=\"blue\" points=\"437,-36 262,-36 262,-0 437,-0 437,-36\" stroke=\"black\"/>\n",
       "<text font-family=\"Times,serif\" font-size=\"14.00\" text-anchor=\"middle\" x=\"349.5\" y=\"-14.3\">TensorType(float32, scalar)</text>\n",
       "</g>\n",
       "<!-- 139822773651344&#45;&gt;139822773651024 -->\n",
       "<g class=\"edge\" id=\"edge4\"><title>139822773651344-&gt;139822773651024</title>\n",
       "<path d=\"M349.5,-72.8129C349.5,-64.7895 349.5,-55.0475 349.5,-46.0691\" fill=\"none\" stroke=\"black\"/>\n",
       "<polygon fill=\"black\" points=\"353,-46.0288 349.5,-36.0288 346,-46.0289 353,-46.0288\" stroke=\"black\"/>\n",
       "</g>\n",
       "<!-- 139822773659728 -->\n",
       "<g class=\"node\" id=\"node2\"><title>139822773659728</title>\n",
       "<polygon fill=\"green\" points=\"221,-196 1.42109e-14,-196 1.42109e-14,-160 221,-160 221,-196\" stroke=\"black\"/>\n",
       "<text font-family=\"Times,serif\" font-size=\"14.00\" text-anchor=\"middle\" x=\"110.5\" y=\"-174.3\">val=1.0 TensorType(float32, scalar)</text>\n",
       "</g>\n",
       "<!-- 139822773659728&#45;&gt;139822773651344 -->\n",
       "<g class=\"edge\" id=\"edge1\"><title>139822773659728-&gt;139822773651344</title>\n",
       "<path d=\"M158.578,-159.901C197.572,-146.033 252.593,-126.465 293.558,-111.896\" fill=\"none\" stroke=\"black\"/>\n",
       "<polygon fill=\"black\" points=\"294.875,-115.142 303.124,-108.493 292.53,-108.547 294.875,-115.142\" stroke=\"black\"/>\n",
       "<text font-family=\"Times,serif\" font-size=\"14.00\" text-anchor=\"middle\" x=\"249\" y=\"-130.8\">0</text>\n",
       "</g>\n",
       "<!-- 139822773660560 -->\n",
       "<g class=\"node\" id=\"node3\"><title>139822773660560</title>\n",
       "<polygon fill=\"green\" points=\"460,-196 239,-196 239,-160 460,-160 460,-196\" stroke=\"black\"/>\n",
       "<text font-family=\"Times,serif\" font-size=\"14.00\" text-anchor=\"middle\" x=\"349.5\" y=\"-174.3\">val=3.0 TensorType(float32, scalar)</text>\n",
       "</g>\n",
       "<!-- 139822773660560&#45;&gt;139822773651344 -->\n",
       "<g class=\"edge\" id=\"edge2\"><title>139822773660560-&gt;139822773651344</title>\n",
       "<path d=\"M349.5,-159.799C349.5,-148.163 349.5,-132.548 349.5,-119.237\" fill=\"none\" stroke=\"black\"/>\n",
       "<polygon fill=\"black\" points=\"353,-119.175 349.5,-109.175 346,-119.175 353,-119.175\" stroke=\"black\"/>\n",
       "<text font-family=\"Times,serif\" font-size=\"14.00\" text-anchor=\"middle\" x=\"353\" y=\"-130.8\">1</text>\n",
       "</g>\n",
       "<!-- 139822764539984 -->\n",
       "<g class=\"node\" id=\"node4\"><title>139822764539984</title>\n",
       "<polygon fill=\"green\" points=\"653,-196 478,-196 478,-160 653,-160 653,-196\" stroke=\"black\"/>\n",
       "<text font-family=\"Times,serif\" font-size=\"14.00\" text-anchor=\"middle\" x=\"565.5\" y=\"-174.3\">TensorType(float32, scalar)</text>\n",
       "</g>\n",
       "<!-- 139822764539984&#45;&gt;139822773651344 -->\n",
       "<g class=\"edge\" id=\"edge3\"><title>139822764539984-&gt;139822773651344</title>\n",
       "<path d=\"M522.049,-159.901C487.105,-146.15 437.92,-126.795 400.998,-112.265\" fill=\"none\" stroke=\"black\"/>\n",
       "<polygon fill=\"black\" points=\"402,-108.898 391.413,-108.493 399.436,-115.412 402,-108.898\" stroke=\"black\"/>\n",
       "<text font-family=\"Times,serif\" font-size=\"14.00\" text-anchor=\"middle\" x=\"474\" y=\"-130.8\">2</text>\n",
       "</g>\n",
       "</g>\n",
       "</svg>"
      ],
      "text/plain": [
       "<IPython.core.display.SVG object>"
      ]
     },
     "execution_count": 49,
     "metadata": {},
     "output_type": "execute_result"
    }
   ],
   "source": [
    "SVG(theano.printing.pydotprint(f, return_image=True, format='svg'))"
   ]
  },
  {
   "cell_type": "markdown",
   "metadata": {
    "nbpresent": {
     "id": "cad2725b-d7d7-401c-8bbe-80627cc21c0e"
    },
    "slideshow": {
     "slide_type": "slide"
    }
   },
   "source": [
    "Other tensor types\n",
    "=========="
   ]
  },
  {
   "cell_type": "code",
   "execution_count": 50,
   "metadata": {
    "collapsed": true,
    "nbpresent": {
     "id": "a6c1e4eb-73d8-4108-b473-01949c4eb719"
    },
    "slideshow": {
     "slide_type": "-"
    }
   },
   "outputs": [],
   "source": [
    "X = T.vector()\n",
    "X = T.matrix()\n",
    "X = T.tensor3()\n",
    "X = T.tensor4()"
   ]
  },
  {
   "cell_type": "markdown",
   "metadata": {
    "nbpresent": {
     "id": "594c04f4-f026-4288-9398-f491bd483259"
    },
    "slideshow": {
     "slide_type": "slide"
    }
   },
   "source": [
    "Numpy style indexing\n",
    "==========="
   ]
  },
  {
   "cell_type": "code",
   "execution_count": 51,
   "metadata": {
    "collapsed": true,
    "nbpresent": {
     "id": "d756e5f9-ae9e-4b3f-8776-8a2195241c8e"
    },
    "slideshow": {
     "slide_type": "-"
    }
   },
   "outputs": [],
   "source": [
    "X = T.vector()"
   ]
  },
  {
   "cell_type": "code",
   "execution_count": 52,
   "metadata": {
    "collapsed": false,
    "nbpresent": {
     "id": "e8a02801-d034-49e3-abf3-b4c70b178dcb"
    }
   },
   "outputs": [
    {
     "data": {
      "text/plain": [
       "Subtensor{int64:int64:int64}.0"
      ]
     },
     "execution_count": 52,
     "metadata": {},
     "output_type": "execute_result"
    }
   ],
   "source": [
    "X[1:-1:2]"
   ]
  },
  {
   "cell_type": "code",
   "execution_count": 53,
   "metadata": {
    "collapsed": false,
    "nbpresent": {
     "id": "c1613353-d9b0-4bea-b346-d4e615b91080"
    },
    "slideshow": {
     "slide_type": "fragment"
    }
   },
   "outputs": [
    {
     "data": {
      "text/plain": [
       "AdvancedSubtensor1.0"
      ]
     },
     "execution_count": 53,
     "metadata": {},
     "output_type": "execute_result"
    }
   ],
   "source": [
    "X[[1,2,3]]"
   ]
  },
  {
   "cell_type": "markdown",
   "metadata": {
    "nbpresent": {
     "id": "fde338ed-c13f-4aad-96c5-a155c06a4e69"
    },
    "slideshow": {
     "slide_type": "slide"
    }
   },
   "source": [
    "Many functions/operations are available through `theano.tensor` or variable methods"
   ]
  },
  {
   "cell_type": "code",
   "execution_count": 54,
   "metadata": {
    "collapsed": false,
    "nbpresent": {
     "id": "622c1563-d0b7-4b2d-b3da-f441e00d7242"
    }
   },
   "outputs": [],
   "source": [
    "y = X.argmax()"
   ]
  },
  {
   "cell_type": "code",
   "execution_count": 55,
   "metadata": {
    "collapsed": true,
    "nbpresent": {
     "id": "513d9d41-d91b-401b-9094-1974c3d4ecc7"
    }
   },
   "outputs": [],
   "source": [
    "y = T.cosh(X)"
   ]
  },
  {
   "cell_type": "code",
   "execution_count": 56,
   "metadata": {
    "collapsed": false,
    "nbpresent": {
     "id": "c4c56bd4-166f-428a-b907-4332ebdae6ac"
    }
   },
   "outputs": [],
   "source": [
    "y = T.outer(X, X)"
   ]
  },
  {
   "cell_type": "markdown",
   "metadata": {
    "nbpresent": {
     "id": "d4716b04-1dd0-4a46-a40a-cdd6385488ff"
    }
   },
   "source": [
    "But don't try to use numpy functions on Theano variables. Results may vary!"
   ]
  },
  {
   "cell_type": "markdown",
   "metadata": {
    "nbpresent": {
     "id": "e3da0df1-2a1c-4e77-a6a0-e8e72040783f"
    },
    "slideshow": {
     "slide_type": "slide"
    }
   },
   "source": [
    "Automatic differention\n",
    "============\n",
    "- Gradients are free!"
   ]
  },
  {
   "cell_type": "code",
   "execution_count": 57,
   "metadata": {
    "collapsed": false,
    "nbpresent": {
     "id": "d8eba054-4e83-4724-97a9-95cbaeb25a8c"
    }
   },
   "outputs": [],
   "source": [
    "x = T.scalar()\n",
    "y = T.log(x)"
   ]
  },
  {
   "cell_type": "code",
   "execution_count": 58,
   "metadata": {
    "collapsed": false,
    "nbpresent": {
     "id": "3a2091e9-11a4-4ca6-add8-8c07a7b59217"
    },
    "slideshow": {
     "slide_type": "fragment"
    }
   },
   "outputs": [
    {
     "data": {
      "text/plain": [
       "array(0.5, dtype=float32)"
      ]
     },
     "execution_count": 58,
     "metadata": {},
     "output_type": "execute_result"
    }
   ],
   "source": [
    "gradient = T.grad(y, x)\n",
    "gradient.eval({x: 2})"
   ]
  },
  {
   "cell_type": "markdown",
   "metadata": {
    "nbpresent": {
     "id": "90c90887-6a20-41ec-9c5a-7606de3ad789"
    },
    "slideshow": {
     "slide_type": "slide"
    }
   },
   "source": [
    "# Shared Variables\n",
    "\n",
    "- Symbolic + Storage"
   ]
  },
  {
   "cell_type": "code",
   "execution_count": 59,
   "metadata": {
    "collapsed": false,
    "nbpresent": {
     "id": "85c1046d-16d4-4092-8733-d72cc4b24dc8"
    }
   },
   "outputs": [],
   "source": [
    "import numpy as np\n",
    "x = theano.shared(np.zeros((2, 3), dtype=theano.config.floatX))"
   ]
  },
  {
   "cell_type": "code",
   "execution_count": 60,
   "metadata": {
    "collapsed": false,
    "nbpresent": {
     "id": "8c79fadd-6e57-4ffc-8487-fc7194d2b461"
    }
   },
   "outputs": [
    {
     "data": {
      "text/plain": [
       "<TensorType(float32, matrix)>"
      ]
     },
     "execution_count": 60,
     "metadata": {},
     "output_type": "execute_result"
    }
   ],
   "source": [
    "x"
   ]
  },
  {
   "cell_type": "markdown",
   "metadata": {
    "nbpresent": {
     "id": "5af68fda-b004-472f-b26f-8919f6eeb158"
    },
    "slideshow": {
     "slide_type": "slide"
    }
   },
   "source": [
    "We can get and set the variable's value"
   ]
  },
  {
   "cell_type": "code",
   "execution_count": 61,
   "metadata": {
    "collapsed": false,
    "nbpresent": {
     "id": "444f9220-7bdf-431a-bd00-3a5a063c5fff"
    },
    "slideshow": {
     "slide_type": "-"
    }
   },
   "outputs": [
    {
     "name": "stdout",
     "output_type": "stream",
     "text": [
      "(2, 3)\n",
      "[[ 0.  0.  0.]\n",
      " [ 0.  0.  0.]]\n"
     ]
    }
   ],
   "source": [
    "values = x.get_value()\n",
    "print(values.shape)\n",
    "print(values)"
   ]
  },
  {
   "cell_type": "code",
   "execution_count": 62,
   "metadata": {
    "collapsed": false,
    "nbpresent": {
     "id": "579aa217-82ba-4e5c-abaf-a92544add8ce"
    }
   },
   "outputs": [],
   "source": [
    "x.set_value(values)"
   ]
  },
  {
   "cell_type": "markdown",
   "metadata": {
    "nbpresent": {
     "id": "b01a5669-dd39-45b3-adde-699282258b04"
    },
    "slideshow": {
     "slide_type": "slide"
    }
   },
   "source": [
    "Shared variables can be used in expressions as well"
   ]
  },
  {
   "cell_type": "code",
   "execution_count": 63,
   "metadata": {
    "collapsed": false,
    "nbpresent": {
     "id": "2f951373-0f2f-40e5-a159-a4e8b0ee7072"
    },
    "slideshow": {
     "slide_type": "-"
    }
   },
   "outputs": [
    {
     "data": {
      "text/plain": [
       "Elemwise{pow,no_inplace}.0"
      ]
     },
     "execution_count": 63,
     "metadata": {},
     "output_type": "execute_result"
    }
   ],
   "source": [
    "(x + 2) ** 2"
   ]
  },
  {
   "cell_type": "markdown",
   "metadata": {
    "nbpresent": {
     "id": "32e1239c-5159-4bb8-b859-75340735da93"
    },
    "slideshow": {
     "slide_type": "fragment"
    }
   },
   "source": [
    "Their value is used as input when evaluating"
   ]
  },
  {
   "cell_type": "code",
   "execution_count": 64,
   "metadata": {
    "collapsed": false,
    "nbpresent": {
     "id": "5a98be13-8429-4efb-a190-a561bac5a41c"
    }
   },
   "outputs": [
    {
     "data": {
      "text/plain": [
       "array([[ 4.,  4.,  4.],\n",
       "       [ 4.,  4.,  4.]], dtype=float32)"
      ]
     },
     "execution_count": 64,
     "metadata": {},
     "output_type": "execute_result"
    }
   ],
   "source": [
    "((x + 2) ** 2).eval()"
   ]
  },
  {
   "cell_type": "code",
   "execution_count": 65,
   "metadata": {
    "collapsed": false,
    "nbpresent": {
     "id": "833e88f8-8c5b-4bb2-9f24-65327c1c118c"
    }
   },
   "outputs": [
    {
     "data": {
      "text/plain": [
       "array([[ 4.,  4.,  4.],\n",
       "       [ 4.,  4.,  4.]], dtype=float32)"
      ]
     },
     "execution_count": 65,
     "metadata": {},
     "output_type": "execute_result"
    }
   ],
   "source": [
    "theano.function([], (x + 2) ** 2)()"
   ]
  },
  {
   "cell_type": "markdown",
   "metadata": {
    "nbpresent": {
     "id": "1f83df93-4fea-43d3-a46c-3d8d2a789338"
    },
    "slideshow": {
     "slide_type": "slide"
    }
   },
   "source": [
    "# Updates\n",
    "\n",
    "- Store results of function evalution\n",
    "- `dict` mapping shared variables to new values"
   ]
  },
  {
   "cell_type": "code",
   "execution_count": 66,
   "metadata": {
    "collapsed": false,
    "nbpresent": {
     "id": "35ecfce0-194f-4559-b8a9-105b9b758e36"
    },
    "slideshow": {
     "slide_type": "slide"
    }
   },
   "outputs": [],
   "source": [
    "count = theano.shared(0)\n",
    "new_count = count + 1\n",
    "updates = {count: new_count}\n",
    "\n",
    "f = theano.function([], count, updates=updates)"
   ]
  },
  {
   "cell_type": "code",
   "execution_count": 67,
   "metadata": {
    "collapsed": false,
    "nbpresent": {
     "id": "a42eec13-db00-4469-9794-9793920dcc88"
    },
    "slideshow": {
     "slide_type": "fragment"
    }
   },
   "outputs": [
    {
     "data": {
      "text/plain": [
       "array(0)"
      ]
     },
     "execution_count": 67,
     "metadata": {},
     "output_type": "execute_result"
    }
   ],
   "source": [
    "f()"
   ]
  },
  {
   "cell_type": "code",
   "execution_count": 68,
   "metadata": {
    "collapsed": false,
    "nbpresent": {
     "id": "84e15800-0ca5-4788-a97f-e4043eacfba6"
    },
    "slideshow": {
     "slide_type": "fragment"
    }
   },
   "outputs": [
    {
     "data": {
      "text/plain": [
       "array(1)"
      ]
     },
     "execution_count": 68,
     "metadata": {},
     "output_type": "execute_result"
    }
   ],
   "source": [
    "f()"
   ]
  },
  {
   "cell_type": "code",
   "execution_count": 69,
   "metadata": {
    "collapsed": false,
    "nbpresent": {
     "id": "f258d310-2b9c-468f-a577-2fa4a3ec153a"
    },
    "slideshow": {
     "slide_type": "fragment"
    }
   },
   "outputs": [
    {
     "data": {
      "text/plain": [
       "array(2)"
      ]
     },
     "execution_count": 69,
     "metadata": {},
     "output_type": "execute_result"
    }
   ],
   "source": [
    "f()"
   ]
  },
  {
   "cell_type": "code",
   "execution_count": null,
   "metadata": {
    "collapsed": true,
    "nbpresent": {
     "id": "d1d99177-9c48-4673-b921-5ad669298e85"
    }
   },
   "outputs": [],
   "source": []
  },
  {
   "cell_type": "code",
   "execution_count": null,
   "metadata": {
    "collapsed": true,
    "nbpresent": {
     "id": "dc502edc-7258-409f-980c-7a548ba22269"
    }
   },
   "outputs": [],
   "source": []
  },
  {
   "cell_type": "code",
   "execution_count": null,
   "metadata": {
    "collapsed": true
   },
   "outputs": [],
   "source": []
  },
  {
   "cell_type": "code",
   "execution_count": null,
   "metadata": {
    "collapsed": true
   },
   "outputs": [],
   "source": []
  },
  {
   "cell_type": "code",
   "execution_count": null,
   "metadata": {
    "collapsed": true
   },
   "outputs": [],
   "source": []
  },
  {
   "cell_type": "code",
   "execution_count": null,
   "metadata": {
    "collapsed": true
   },
   "outputs": [],
   "source": []
  }
 ],
 "metadata": {
  "anaconda-cloud": {},
  "celltoolbar": "Slideshow",
  "kernelspec": {
   "display_name": "Python 2",
   "language": "python",
   "name": "python2"
  },
  "language_info": {
   "codemirror_mode": {
    "name": "ipython",
    "version": 2
   },
   "file_extension": ".py",
   "mimetype": "text/x-python",
   "name": "python",
   "nbconvert_exporter": "python",
   "pygments_lexer": "ipython2",
   "version": "2.7.12"
  },
  "nbpresent": {
   "slides": {
    "06939019-6b0b-4f58-816a-9eae1137cc2e": {
     "id": "06939019-6b0b-4f58-816a-9eae1137cc2e",
     "prev": "0d5aad3b-d328-45f3-aee8-6d76179db0e3",
     "regions": {
      "b12109b5-bc70-40df-9977-7762259ea2e6": {
       "attrs": {
        "height": 0.8,
        "width": 0.8,
        "x": 0.1,
        "y": 0.1
       },
       "content": {
        "cell": "c1613353-d9b0-4bea-b346-d4e615b91080",
        "part": "whole"
       },
       "id": "b12109b5-bc70-40df-9977-7762259ea2e6"
      }
     }
    },
    "0b7e3d1e-bf5b-483e-8e8c-d8765f7aca96": {
     "id": "0b7e3d1e-bf5b-483e-8e8c-d8765f7aca96",
     "prev": "61c9ffe4-ebef-42e2-9d74-d64bfcf75dda",
     "regions": {
      "7f3857bf-466d-4722-958f-53f06635dbcc": {
       "attrs": {
        "height": 0.8,
        "width": 0.8,
        "x": 0.1,
        "y": 0.1
       },
       "content": {
        "cell": "ec347902-1df2-4d74-97bb-e6a889681318",
        "part": "whole"
       },
       "id": "7f3857bf-466d-4722-958f-53f06635dbcc"
      }
     }
    },
    "0d5aad3b-d328-45f3-aee8-6d76179db0e3": {
     "id": "0d5aad3b-d328-45f3-aee8-6d76179db0e3",
     "prev": "b2923ed4-928d-4c2e-a048-3cc86dfac8e2",
     "regions": {
      "a7ff1e41-620b-4d25-8d9d-0279e4560242": {
       "attrs": {
        "height": 0.8,
        "width": 0.8,
        "x": 0.1,
        "y": 0.1
       },
       "content": {
        "cell": "e8a02801-d034-49e3-abf3-b4c70b178dcb",
        "part": "whole"
       },
       "id": "a7ff1e41-620b-4d25-8d9d-0279e4560242"
      }
     }
    },
    "0feb9671-7fc1-43f4-bf69-240e9877f19f": {
     "id": "0feb9671-7fc1-43f4-bf69-240e9877f19f",
     "prev": "830bf4c0-1694-48a5-9b2e-2560777a3191",
     "regions": {
      "01aea7fb-9451-4987-a0ca-b37f04cf430d": {
       "attrs": {
        "height": 0.8,
        "width": 0.8,
        "x": 0.1,
        "y": 0.1
       },
       "content": {
        "cell": "d8eba054-4e83-4724-97a9-95cbaeb25a8c",
        "part": "whole"
       },
       "id": "01aea7fb-9451-4987-a0ca-b37f04cf430d"
      }
     }
    },
    "12d4691c-2f4c-4d2c-8bda-9bf667001776": {
     "id": "12d4691c-2f4c-4d2c-8bda-9bf667001776",
     "prev": "8ab52c79-47d2-4f72-bdcc-ee17b645f47f",
     "regions": {
      "6130425e-a837-4e8b-a101-71a2e101cabc": {
       "attrs": {
        "height": 0.8,
        "width": 0.8,
        "x": 0.1,
        "y": 0.1
       },
       "content": {
        "cell": "3fc5ceed-b4cb-47ff-9c90-d0e4c72e87e8",
        "part": "whole"
       },
       "id": "6130425e-a837-4e8b-a101-71a2e101cabc"
      }
     }
    },
    "152e84c2-3888-4bcc-9bea-9621dd050ce3": {
     "id": "152e84c2-3888-4bcc-9bea-9621dd050ce3",
     "prev": "4f24a2eb-2656-463f-90bf-bb4dd6b7c057",
     "regions": {
      "4ecff56d-9376-4230-9a80-bf1fc36d04e8": {
       "attrs": {
        "height": 0.8,
        "width": 0.8,
        "x": 0.1,
        "y": 0.1
       },
       "content": {
        "cell": "444f9220-7bdf-431a-bd00-3a5a063c5fff",
        "part": "whole"
       },
       "id": "4ecff56d-9376-4230-9a80-bf1fc36d04e8"
      }
     }
    },
    "15deebc5-48f7-454a-81aa-3176a54e1286": {
     "id": "15deebc5-48f7-454a-81aa-3176a54e1286",
     "prev": "a2a23cf9-57cb-421a-88db-f416145c4e2f",
     "regions": {
      "43fca19d-4ead-47ed-8bfc-6449e415b281": {
       "attrs": {
        "height": 0.8,
        "width": 0.8,
        "x": 0.1,
        "y": 0.1
       },
       "content": {
        "cell": "dc502edc-7258-409f-980c-7a548ba22269",
        "part": "whole"
       },
       "id": "43fca19d-4ead-47ed-8bfc-6449e415b281"
      }
     }
    },
    "168670eb-d464-4a0a-852d-c7341e6ecc0d": {
     "id": "168670eb-d464-4a0a-852d-c7341e6ecc0d",
     "prev": "f75a2255-1d73-4611-af7a-0612e923cd51",
     "regions": {
      "0f1f542a-cd04-4f15-befc-4945da05b295": {
       "attrs": {
        "height": 0.8,
        "width": 0.8,
        "x": 0.1,
        "y": 0.1
       },
       "content": {
        "cell": "708c7488-aaa6-4f61-8f68-902eee47e191",
        "part": "whole"
       },
       "id": "0f1f542a-cd04-4f15-befc-4945da05b295"
      }
     }
    },
    "1b321303-badf-4027-a8b6-861ef7ed1ebe": {
     "id": "1b321303-badf-4027-a8b6-861ef7ed1ebe",
     "prev": "de097e4b-2f47-4082-867c-3574a9638c2f",
     "regions": {
      "08c9039e-b901-463b-bbcf-d69afcb3bf01": {
       "attrs": {
        "height": 0.8,
        "width": 0.8,
        "x": 0.1,
        "y": 0.1
       },
       "content": {
        "cell": "513d9d41-d91b-401b-9094-1974c3d4ecc7",
        "part": "whole"
       },
       "id": "08c9039e-b901-463b-bbcf-d69afcb3bf01"
      }
     }
    },
    "24124ed3-8c89-443d-9310-3aca9345b80f": {
     "id": "24124ed3-8c89-443d-9310-3aca9345b80f",
     "prev": "a404768e-49a5-4614-949c-3809c7c8e0e9",
     "regions": {
      "0fe7b952-4dc8-473f-a3c8-7e24645a3e42": {
       "attrs": {
        "height": 0.8,
        "width": 0.8,
        "x": 0.1,
        "y": 0.1
       },
       "content": {
        "cell": "594c04f4-f026-4288-9398-f491bd483259",
        "part": "whole"
       },
       "id": "0fe7b952-4dc8-473f-a3c8-7e24645a3e42"
      }
     }
    },
    "2554e707-34c4-484a-87b7-5633e52e8945": {
     "id": "2554e707-34c4-484a-87b7-5633e52e8945",
     "prev": "609f91cd-02e3-40ef-8f91-ee67c8a86293",
     "regions": {
      "535e3993-dc11-46de-8e46-f4783085d66c": {
       "attrs": {
        "height": 0.8,
        "width": 0.8,
        "x": 0.1,
        "y": 0.1
       },
       "content": {
        "cell": "1f83df93-4fea-43d3-a46c-3d8d2a789338",
        "part": "whole"
       },
       "id": "535e3993-dc11-46de-8e46-f4783085d66c"
      }
     }
    },
    "282cb8ea-d1a5-4eb4-ae82-45ae52c59206": {
     "id": "282cb8ea-d1a5-4eb4-ae82-45ae52c59206",
     "prev": "87cc4da6-c63a-4ee2-90ef-d54394558af9",
     "regions": {
      "a42ba729-ca87-4437-a7cb-3a6e5f0bb940": {
       "attrs": {
        "height": 0.8,
        "width": 0.8,
        "x": 0.1,
        "y": 0.1
       },
       "content": {
        "cell": "32e1239c-5159-4bb8-b859-75340735da93",
        "part": "whole"
       },
       "id": "a42ba729-ca87-4437-a7cb-3a6e5f0bb940"
      }
     }
    },
    "286cb027-91d5-4316-8345-744c5947045e": {
     "id": "286cb027-91d5-4316-8345-744c5947045e",
     "prev": "55ea0bf0-8cf9-4a74-ba5e-9e5fabdc4657",
     "regions": {
      "f95ebf2b-4125-4391-84e8-7425b5a9f8ce": {
       "attrs": {
        "height": 0.8,
        "width": 0.8,
        "x": 0.1,
        "y": 0.1
       },
       "content": {
        "cell": "4b0ef215-18cd-4a16-9e78-e59242b4c105",
        "part": "whole"
       },
       "id": "f95ebf2b-4125-4391-84e8-7425b5a9f8ce"
      }
     }
    },
    "293cd1dd-70f7-4962-979e-f1850d2ecc48": {
     "id": "293cd1dd-70f7-4962-979e-f1850d2ecc48",
     "prev": "81b4356a-44b1-4236-b7dc-42ee4b38bf19",
     "regions": {
      "c2b121e1-1da5-47cc-b8f9-e28fd89a1da7": {
       "attrs": {
        "height": 0.8,
        "width": 0.8,
        "x": 0.1,
        "y": 0.1
       },
       "content": {
        "cell": "2f42c44d-9139-48e4-aa2a-5447f3c554b8",
        "part": "whole"
       },
       "id": "c2b121e1-1da5-47cc-b8f9-e28fd89a1da7"
      }
     }
    },
    "30bf0d6b-63fc-4a8d-8577-3d561a4982af": {
     "id": "30bf0d6b-63fc-4a8d-8577-3d561a4982af",
     "prev": "1b321303-badf-4027-a8b6-861ef7ed1ebe",
     "regions": {
      "2e7b1aeb-5848-43a2-8d1d-b491303beb36": {
       "attrs": {
        "height": 0.8,
        "width": 0.8,
        "x": 0.1,
        "y": 0.1
       },
       "content": {
        "cell": "c4c56bd4-166f-428a-b907-4332ebdae6ac",
        "part": "whole"
       },
       "id": "2e7b1aeb-5848-43a2-8d1d-b491303beb36"
      }
     }
    },
    "38536ce1-de27-42e2-907e-d101fa362eb2": {
     "id": "38536ce1-de27-42e2-907e-d101fa362eb2",
     "prev": "b995c963-9404-40cd-bc88-a403bb492281",
     "regions": {
      "6e72fcc1-f6d0-4d6a-a0b4-361a7c52bef9": {
       "attrs": {
        "height": 0.8,
        "width": 0.8,
        "x": 0.1,
        "y": 0.1
       },
       "content": {
        "cell": "4d873e24-cf98-490d-9d24-1b0c74e91cd6",
        "part": "whole"
       },
       "id": "6e72fcc1-f6d0-4d6a-a0b4-361a7c52bef9"
      }
     }
    },
    "49182fd7-cf97-4ee8-bdee-3643c61e5dc7": {
     "id": "49182fd7-cf97-4ee8-bdee-3643c61e5dc7",
     "prev": "168670eb-d464-4a0a-852d-c7341e6ecc0d",
     "regions": {
      "2d710843-b14b-4975-a34b-3fe6d6535a62": {
       "attrs": {
        "height": 0.8,
        "width": 0.8,
        "x": 0.1,
        "y": 0.1
       },
       "content": {
        "cell": "ea47591a-d4db-422c-94c5-52c4538dfbb4",
        "part": "whole"
       },
       "id": "2d710843-b14b-4975-a34b-3fe6d6535a62"
      }
     }
    },
    "4c4cb109-6f53-4097-9c04-421df4c37629": {
     "id": "4c4cb109-6f53-4097-9c04-421df4c37629",
     "prev": "fdf96a4b-6a92-4ce3-9aa5-19aefeb894cf",
     "regions": {
      "f321f34d-e591-4fc5-ade9-66b1d568ebd8": {
       "attrs": {
        "height": 0.8,
        "width": 0.8,
        "x": 0.1,
        "y": 0.1
       },
       "content": {
        "cell": "85c1046d-16d4-4092-8733-d72cc4b24dc8",
        "part": "whole"
       },
       "id": "f321f34d-e591-4fc5-ade9-66b1d568ebd8"
      }
     }
    },
    "4f24a2eb-2656-463f-90bf-bb4dd6b7c057": {
     "id": "4f24a2eb-2656-463f-90bf-bb4dd6b7c057",
     "prev": "8b419927-a08b-450f-baed-df03f227a94d",
     "regions": {
      "6416a0a3-1a0c-4f07-a7ad-cbc2babb9eda": {
       "attrs": {
        "height": 0.8,
        "width": 0.8,
        "x": 0.1,
        "y": 0.1
       },
       "content": {
        "cell": "5af68fda-b004-472f-b26f-8919f6eeb158",
        "part": "whole"
       },
       "id": "6416a0a3-1a0c-4f07-a7ad-cbc2babb9eda"
      }
     }
    },
    "55ea0bf0-8cf9-4a74-ba5e-9e5fabdc4657": {
     "id": "55ea0bf0-8cf9-4a74-ba5e-9e5fabdc4657",
     "prev": "b6cca4b3-eb93-4bd6-8fec-66ab48d715eb",
     "regions": {
      "161b32a3-66d0-4a93-8fe9-00ae8928bbcd": {
       "attrs": {
        "height": 0.8,
        "width": 0.8,
        "x": 0.1,
        "y": 0.1
       },
       "content": {
        "cell": "87785f6d-eb6b-48d4-aabe-f28e827eef41",
        "part": "whole"
       },
       "id": "161b32a3-66d0-4a93-8fe9-00ae8928bbcd"
      }
     }
    },
    "609f91cd-02e3-40ef-8f91-ee67c8a86293": {
     "id": "609f91cd-02e3-40ef-8f91-ee67c8a86293",
     "prev": "b530f2ed-87b7-41a5-b4b3-f3d494c9afba",
     "regions": {
      "afcf3508-08c7-4f84-8c74-bc27a59baaa3": {
       "attrs": {
        "height": 0.8,
        "width": 0.8,
        "x": 0.1,
        "y": 0.1
       },
       "content": {
        "cell": "833e88f8-8c5b-4bb2-9f24-65327c1c118c",
        "part": "whole"
       },
       "id": "afcf3508-08c7-4f84-8c74-bc27a59baaa3"
      }
     }
    },
    "61c9ffe4-ebef-42e2-9d74-d64bfcf75dda": {
     "id": "61c9ffe4-ebef-42e2-9d74-d64bfcf75dda",
     "prev": "293cd1dd-70f7-4962-979e-f1850d2ecc48",
     "regions": {
      "653a840f-df02-4177-a1e2-f2a953163b7f": {
       "attrs": {
        "height": 0.8,
        "width": 0.8,
        "x": 0.1,
        "y": 0.1
       },
       "content": {
        "cell": "83c37674-db7b-47b4-a10e-92ef0419ad0a",
        "part": "whole"
       },
       "id": "653a840f-df02-4177-a1e2-f2a953163b7f"
      }
     }
    },
    "62728723-7ad9-45e6-af4f-e57574c2e9a4": {
     "id": "62728723-7ad9-45e6-af4f-e57574c2e9a4",
     "prev": "0b7e3d1e-bf5b-483e-8e8c-d8765f7aca96",
     "regions": {
      "47e4101e-893c-43e4-b2fa-2eb3fa99ae36": {
       "attrs": {
        "height": 0.8,
        "width": 0.8,
        "x": 0.1,
        "y": 0.1
       },
       "content": {
        "cell": "cad2725b-d7d7-401c-8bbe-80627cc21c0e",
        "part": "whole"
       },
       "id": "47e4101e-893c-43e4-b2fa-2eb3fa99ae36"
      }
     }
    },
    "7ec6586c-41e6-46d9-8fd6-43a57c4f2a46": {
     "id": "7ec6586c-41e6-46d9-8fd6-43a57c4f2a46",
     "prev": "ea82abe4-76d4-412c-81e1-ba0cecb0d53c",
     "regions": {
      "0e40da79-126f-4e7c-ab4d-d59e500845f7": {
       "attrs": {
        "height": 0.8,
        "width": 0.8,
        "x": 0.1,
        "y": 0.1
       },
       "content": {
        "cell": "5e701246-627c-44bd-a80d-34ecb46b6461",
        "part": "whole"
       },
       "id": "0e40da79-126f-4e7c-ab4d-d59e500845f7"
      }
     }
    },
    "7fce5e15-21df-4ada-9d06-f8ec224d7360": {
     "id": "7fce5e15-21df-4ada-9d06-f8ec224d7360",
     "prev": "e241e8a3-6958-44dc-86ed-6dcd2aed9ca4",
     "regions": {
      "7fde9c1c-f259-499c-aa1f-cba09c3b2d0d": {
       "attrs": {
        "height": 0.8,
        "width": 0.8,
        "x": 0.1,
        "y": 0.1
       },
       "content": {
        "cell": "285625fb-edca-42fb-8569-8450dbd97375",
        "part": "whole"
       },
       "id": "7fde9c1c-f259-499c-aa1f-cba09c3b2d0d"
      }
     }
    },
    "81b4356a-44b1-4236-b7dc-42ee4b38bf19": {
     "id": "81b4356a-44b1-4236-b7dc-42ee4b38bf19",
     "prev": "38536ce1-de27-42e2-907e-d101fa362eb2",
     "regions": {
      "9a5a75c1-d4a1-440e-8ed3-4060b4ac52d3": {
       "attrs": {
        "height": 0.8,
        "width": 0.8,
        "x": 0.1,
        "y": 0.1
       },
       "content": {
        "cell": "40dbaf6e-6fb3-48ee-b44f-b102accaef71",
        "part": "whole"
       },
       "id": "9a5a75c1-d4a1-440e-8ed3-4060b4ac52d3"
      }
     }
    },
    "830bf4c0-1694-48a5-9b2e-2560777a3191": {
     "id": "830bf4c0-1694-48a5-9b2e-2560777a3191",
     "prev": "cc7b7ea0-88ce-4923-9851-075a334a7a70",
     "regions": {
      "5a4b83fa-0d07-49dd-801c-f1012d8345a3": {
       "attrs": {
        "height": 0.8,
        "width": 0.8,
        "x": 0.1,
        "y": 0.1
       },
       "content": {
        "cell": "e3da0df1-2a1c-4e77-a6a0-e8e72040783f",
        "part": "whole"
       },
       "id": "5a4b83fa-0d07-49dd-801c-f1012d8345a3"
      }
     }
    },
    "836a48a3-9fb0-4ff3-a1d8-e3a1fa226805": {
     "id": "836a48a3-9fb0-4ff3-a1d8-e3a1fa226805",
     "prev": "cfffae01-be3e-4845-8ad6-2cbf4373a6db",
     "regions": {
      "17dbf9a4-b816-4b96-91e2-d6f7735cb84d": {
       "attrs": {
        "height": 0.8,
        "width": 0.8,
        "x": 0.1,
        "y": 0.1
       },
       "content": {
        "cell": "a42eec13-db00-4469-9794-9793920dcc88",
        "part": "whole"
       },
       "id": "17dbf9a4-b816-4b96-91e2-d6f7735cb84d"
      }
     }
    },
    "836cfdcb-6516-4d1c-9fbd-710ef33f728b": {
     "id": "836cfdcb-6516-4d1c-9fbd-710ef33f728b",
     "prev": "e42047e7-dca2-47a0-ab4d-877cae82d077",
     "regions": {
      "02f3036f-31ca-462f-9045-1a717382ffb6": {
       "attrs": {
        "height": 0.8,
        "width": 0.8,
        "x": 0.1,
        "y": 0.1
       },
       "content": {
        "cell": "b01a5669-dd39-45b3-adde-699282258b04",
        "part": "whole"
       },
       "id": "02f3036f-31ca-462f-9045-1a717382ffb6"
      }
     }
    },
    "87cc4da6-c63a-4ee2-90ef-d54394558af9": {
     "id": "87cc4da6-c63a-4ee2-90ef-d54394558af9",
     "prev": "836cfdcb-6516-4d1c-9fbd-710ef33f728b",
     "regions": {
      "201a6c20-0923-4f68-8143-bb9f80d10b93": {
       "attrs": {
        "height": 0.8,
        "width": 0.8,
        "x": 0.1,
        "y": 0.1
       },
       "content": {
        "cell": "2f951373-0f2f-40e5-a159-a4e8b0ee7072",
        "part": "whole"
       },
       "id": "201a6c20-0923-4f68-8143-bb9f80d10b93"
      }
     }
    },
    "8ab52c79-47d2-4f72-bdcc-ee17b645f47f": {
     "id": "8ab52c79-47d2-4f72-bdcc-ee17b645f47f",
     "prev": "ca6e2f4f-498b-4aad-94af-a4d036b25969",
     "regions": {
      "1c00db47-fc74-4f25-a67f-58304cac709d": {
       "attrs": {
        "height": 0.8,
        "width": 0.8,
        "x": 0.1,
        "y": 0.1
       },
       "content": {
        "cell": "46e76e4a-a3ce-4136-bcbb-2f7a490600b1",
        "part": "whole"
       },
       "id": "1c00db47-fc74-4f25-a67f-58304cac709d"
      }
     }
    },
    "8b419927-a08b-450f-baed-df03f227a94d": {
     "id": "8b419927-a08b-450f-baed-df03f227a94d",
     "prev": "4c4cb109-6f53-4097-9c04-421df4c37629",
     "regions": {
      "73d7c10d-3701-4bd6-8f5f-21c1f53054c6": {
       "attrs": {
        "height": 0.8,
        "width": 0.8,
        "x": 0.1,
        "y": 0.1
       },
       "content": {
        "cell": "8c79fadd-6e57-4ffc-8487-fc7194d2b461",
        "part": "whole"
       },
       "id": "73d7c10d-3701-4bd6-8f5f-21c1f53054c6"
      }
     }
    },
    "a2a23cf9-57cb-421a-88db-f416145c4e2f": {
     "id": "a2a23cf9-57cb-421a-88db-f416145c4e2f",
     "prev": "f247d45d-a25e-4bc5-b6cd-ca7f1661059a",
     "regions": {
      "17d8c745-926e-4e52-9b97-be58f4161e6e": {
       "attrs": {
        "height": 0.8,
        "width": 0.8,
        "x": 0.1,
        "y": 0.1
       },
       "content": {
        "cell": "d1d99177-9c48-4673-b921-5ad669298e85",
        "part": "whole"
       },
       "id": "17d8c745-926e-4e52-9b97-be58f4161e6e"
      }
     }
    },
    "a404768e-49a5-4614-949c-3809c7c8e0e9": {
     "id": "a404768e-49a5-4614-949c-3809c7c8e0e9",
     "prev": "62728723-7ad9-45e6-af4f-e57574c2e9a4",
     "regions": {
      "c2b72b91-8970-4268-8cd6-49d0ca8612c0": {
       "attrs": {
        "height": 0.8,
        "width": 0.8,
        "x": 0.1,
        "y": 0.1
       },
       "content": {
        "cell": "a6c1e4eb-73d8-4108-b473-01949c4eb719",
        "part": "whole"
       },
       "id": "c2b72b91-8970-4268-8cd6-49d0ca8612c0"
      }
     }
    },
    "a4e15514-0266-4ad6-a75c-a82750c3a4d5": {
     "id": "a4e15514-0266-4ad6-a75c-a82750c3a4d5",
     "prev": "49182fd7-cf97-4ee8-bdee-3643c61e5dc7",
     "regions": {
      "781f70b1-121d-45b3-8e1c-12c8f6b8e45a": {
       "attrs": {
        "height": 0.8,
        "width": 0.8,
        "x": 0.1,
        "y": 0.1
       },
       "content": {
        "cell": "cd699364-234f-4517-863d-20418ddcfa66",
        "part": "whole"
       },
       "id": "781f70b1-121d-45b3-8e1c-12c8f6b8e45a"
      }
     }
    },
    "b2923ed4-928d-4c2e-a048-3cc86dfac8e2": {
     "id": "b2923ed4-928d-4c2e-a048-3cc86dfac8e2",
     "prev": "24124ed3-8c89-443d-9310-3aca9345b80f",
     "regions": {
      "e0d97433-f6d3-46e3-8c6a-38339a8ebc10": {
       "attrs": {
        "height": 0.8,
        "width": 0.8,
        "x": 0.1,
        "y": 0.1
       },
       "content": {
        "cell": "d756e5f9-ae9e-4b3f-8776-8a2195241c8e",
        "part": "whole"
       },
       "id": "e0d97433-f6d3-46e3-8c6a-38339a8ebc10"
      }
     }
    },
    "b343c0dd-7ca7-4654-9852-8c8a897ae475": {
     "id": "b343c0dd-7ca7-4654-9852-8c8a897ae475",
     "prev": "286cb027-91d5-4316-8345-744c5947045e",
     "regions": {
      "03bc9309-421d-4444-99a4-7cb9ed452bfd": {
       "attrs": {
        "height": 0.8,
        "width": 0.8,
        "x": 0.1,
        "y": 0.1
       },
       "content": {
        "cell": "0e40ab9d-af02-4d69-8dc8-14c0b04c87d2",
        "part": "whole"
       },
       "id": "03bc9309-421d-4444-99a4-7cb9ed452bfd"
      }
     }
    },
    "b530f2ed-87b7-41a5-b4b3-f3d494c9afba": {
     "id": "b530f2ed-87b7-41a5-b4b3-f3d494c9afba",
     "prev": "282cb8ea-d1a5-4eb4-ae82-45ae52c59206",
     "regions": {
      "47df69b6-5434-4cc5-9964-7211785e5f22": {
       "attrs": {
        "height": 0.8,
        "width": 0.8,
        "x": 0.1,
        "y": 0.1
       },
       "content": {
        "cell": "5a98be13-8429-4efb-a190-a561bac5a41c",
        "part": "whole"
       },
       "id": "47df69b6-5434-4cc5-9964-7211785e5f22"
      }
     }
    },
    "b6cca4b3-eb93-4bd6-8fec-66ab48d715eb": {
     "id": "b6cca4b3-eb93-4bd6-8fec-66ab48d715eb",
     "prev": "7fce5e15-21df-4ada-9d06-f8ec224d7360",
     "regions": {
      "a6772a80-7687-4ffc-a3f5-08a5d14b923b": {
       "attrs": {
        "height": 0.8,
        "width": 0.8,
        "x": 0.1,
        "y": 0.1
       },
       "content": {
        "cell": "511090a2-7c37-419d-b0d5-4893ba500280",
        "part": "whole"
       },
       "id": "a6772a80-7687-4ffc-a3f5-08a5d14b923b"
      }
     }
    },
    "b995c963-9404-40cd-bc88-a403bb492281": {
     "id": "b995c963-9404-40cd-bc88-a403bb492281",
     "prev": "b343c0dd-7ca7-4654-9852-8c8a897ae475",
     "regions": {
      "c74f8c0a-2371-465d-8a29-df3646b22d35": {
       "attrs": {
        "height": 0.8,
        "width": 0.8,
        "x": 0.1,
        "y": 0.1
       },
       "content": {
        "cell": "3767064a-fa6d-4522-a447-cbacded23b00",
        "part": "whole"
       },
       "id": "c74f8c0a-2371-465d-8a29-df3646b22d35"
      }
     }
    },
    "bb0948ec-952d-4601-afb6-572bf020855a": {
     "id": "bb0948ec-952d-4601-afb6-572bf020855a",
     "prev": "06939019-6b0b-4f58-816a-9eae1137cc2e",
     "regions": {
      "ba8ba053-3ba6-42fa-8f87-ac4945c3586f": {
       "attrs": {
        "height": 0.8,
        "width": 0.8,
        "x": 0.1,
        "y": 0.1
       },
       "content": {
        "cell": "fde338ed-c13f-4aad-96c5-a155c06a4e69",
        "part": "whole"
       },
       "id": "ba8ba053-3ba6-42fa-8f87-ac4945c3586f"
      }
     }
    },
    "be3f0ce0-07a3-405f-8cc9-8621e255121b": {
     "id": "be3f0ce0-07a3-405f-8cc9-8621e255121b",
     "prev": "0feb9671-7fc1-43f4-bf69-240e9877f19f",
     "regions": {
      "f3239642-1765-4c8a-a269-6119bac2b2e8": {
       "attrs": {
        "height": 0.8,
        "width": 0.8,
        "x": 0.1,
        "y": 0.1
       },
       "content": {
        "cell": "3a2091e9-11a4-4ca6-add8-8c07a7b59217",
        "part": "whole"
       },
       "id": "f3239642-1765-4c8a-a269-6119bac2b2e8"
      }
     }
    },
    "ca6e2f4f-498b-4aad-94af-a4d036b25969": {
     "id": "ca6e2f4f-498b-4aad-94af-a4d036b25969",
     "prev": null,
     "regions": {
      "6c74dd37-c2f6-461a-8417-d29cd00b22b3": {
       "attrs": {
        "height": 0.8,
        "width": 0.8,
        "x": 0.1,
        "y": 0.1
       },
       "content": {
        "cell": "c1f1ff56-1fe4-4242-b5f3-f09efcf187c2",
        "part": "whole"
       },
       "id": "6c74dd37-c2f6-461a-8417-d29cd00b22b3"
      }
     }
    },
    "cc7b7ea0-88ce-4923-9851-075a334a7a70": {
     "id": "cc7b7ea0-88ce-4923-9851-075a334a7a70",
     "prev": "30bf0d6b-63fc-4a8d-8577-3d561a4982af",
     "regions": {
      "bbb9ee2c-13f9-43ca-be7d-ae0472bcb8d5": {
       "attrs": {
        "height": 0.8,
        "width": 0.8,
        "x": 0.1,
        "y": 0.1
       },
       "content": {
        "cell": "d4716b04-1dd0-4a46-a40a-cdd6385488ff",
        "part": "whole"
       },
       "id": "bbb9ee2c-13f9-43ca-be7d-ae0472bcb8d5"
      }
     }
    },
    "cfffae01-be3e-4845-8ad6-2cbf4373a6db": {
     "id": "cfffae01-be3e-4845-8ad6-2cbf4373a6db",
     "prev": "2554e707-34c4-484a-87b7-5633e52e8945",
     "regions": {
      "1a9a461a-f0bf-4f51-b6db-1e7bb9cdb586": {
       "attrs": {
        "height": 0.8,
        "width": 0.8,
        "x": 0.1,
        "y": 0.1
       },
       "content": {
        "cell": "35ecfce0-194f-4559-b8a9-105b9b758e36",
        "part": "whole"
       },
       "id": "1a9a461a-f0bf-4f51-b6db-1e7bb9cdb586"
      }
     }
    },
    "de097e4b-2f47-4082-867c-3574a9638c2f": {
     "id": "de097e4b-2f47-4082-867c-3574a9638c2f",
     "prev": "bb0948ec-952d-4601-afb6-572bf020855a",
     "regions": {
      "e9fa30c0-e63e-4887-8ac6-3907ba51b823": {
       "attrs": {
        "height": 0.8,
        "width": 0.8,
        "x": 0.1,
        "y": 0.1
       },
       "content": {
        "cell": "622c1563-d0b7-4b2d-b3da-f441e00d7242",
        "part": "whole"
       },
       "id": "e9fa30c0-e63e-4887-8ac6-3907ba51b823"
      }
     }
    },
    "e241e8a3-6958-44dc-86ed-6dcd2aed9ca4": {
     "id": "e241e8a3-6958-44dc-86ed-6dcd2aed9ca4",
     "prev": "7ec6586c-41e6-46d9-8fd6-43a57c4f2a46",
     "regions": {
      "df7b0057-d904-4654-86d5-f9b8d2f802a5": {
       "attrs": {
        "height": 0.8,
        "width": 0.8,
        "x": 0.1,
        "y": 0.1
       },
       "content": {
        "cell": "6a4712e6-7501-492f-b0d5-9e8c8602ddc2",
        "part": "whole"
       },
       "id": "df7b0057-d904-4654-86d5-f9b8d2f802a5"
      }
     }
    },
    "e42047e7-dca2-47a0-ab4d-877cae82d077": {
     "id": "e42047e7-dca2-47a0-ab4d-877cae82d077",
     "prev": "152e84c2-3888-4bcc-9bea-9621dd050ce3",
     "regions": {
      "dcca6d20-c8a6-4c75-ae56-fa1a784cc6bd": {
       "attrs": {
        "height": 0.8,
        "width": 0.8,
        "x": 0.1,
        "y": 0.1
       },
       "content": {
        "cell": "579aa217-82ba-4e5c-abaf-a92544add8ce",
        "part": "whole"
       },
       "id": "dcca6d20-c8a6-4c75-ae56-fa1a784cc6bd"
      }
     }
    },
    "ea82abe4-76d4-412c-81e1-ba0cecb0d53c": {
     "id": "ea82abe4-76d4-412c-81e1-ba0cecb0d53c",
     "prev": "a4e15514-0266-4ad6-a75c-a82750c3a4d5",
     "regions": {
      "19cbafd1-bacb-4b56-8dd2-1e8d573ccdcb": {
       "attrs": {
        "height": 0.8,
        "width": 0.8,
        "x": 0.1,
        "y": 0.1
       },
       "content": {
        "cell": "3abeafe6-2cf4-4a36-b813-10afa924b3f4",
        "part": "whole"
       },
       "id": "19cbafd1-bacb-4b56-8dd2-1e8d573ccdcb"
      }
     }
    },
    "f247d45d-a25e-4bc5-b6cd-ca7f1661059a": {
     "id": "f247d45d-a25e-4bc5-b6cd-ca7f1661059a",
     "prev": "fb09f367-575e-4d54-af47-4a3cfad6b8fd",
     "regions": {
      "ed554f66-7225-43e0-bee5-c41cdde9506c": {
       "attrs": {
        "height": 0.8,
        "width": 0.8,
        "x": 0.1,
        "y": 0.1
       },
       "content": {
        "cell": "f258d310-2b9c-468f-a577-2fa4a3ec153a",
        "part": "whole"
       },
       "id": "ed554f66-7225-43e0-bee5-c41cdde9506c"
      }
     }
    },
    "f75a2255-1d73-4611-af7a-0612e923cd51": {
     "id": "f75a2255-1d73-4611-af7a-0612e923cd51",
     "prev": "12d4691c-2f4c-4d2c-8bda-9bf667001776",
     "regions": {
      "d91c7ca1-3b36-45f9-abc4-282fe507fec4": {
       "attrs": {
        "height": 0.8,
        "width": 0.8,
        "x": 0.1,
        "y": 0.1
       },
       "content": {
        "cell": "9cd6df08-b05f-4827-b3f3-c689c046f8f8",
        "part": "whole"
       },
       "id": "d91c7ca1-3b36-45f9-abc4-282fe507fec4"
      }
     }
    },
    "fb09f367-575e-4d54-af47-4a3cfad6b8fd": {
     "id": "fb09f367-575e-4d54-af47-4a3cfad6b8fd",
     "prev": "836a48a3-9fb0-4ff3-a1d8-e3a1fa226805",
     "regions": {
      "e411e485-28bb-4441-a450-006f127715dd": {
       "attrs": {
        "height": 0.8,
        "width": 0.8,
        "x": 0.1,
        "y": 0.1
       },
       "content": {
        "cell": "84e15800-0ca5-4788-a97f-e4043eacfba6",
        "part": "whole"
       },
       "id": "e411e485-28bb-4441-a450-006f127715dd"
      }
     }
    },
    "fdf96a4b-6a92-4ce3-9aa5-19aefeb894cf": {
     "id": "fdf96a4b-6a92-4ce3-9aa5-19aefeb894cf",
     "prev": "be3f0ce0-07a3-405f-8cc9-8621e255121b",
     "regions": {
      "1adcf499-0fa0-454e-bd34-153f964ddcd2": {
       "attrs": {
        "height": 0.8,
        "width": 0.8,
        "x": 0.1,
        "y": 0.1
       },
       "content": {
        "cell": "90c90887-6a20-41ec-9c5a-7606de3ad789",
        "part": "whole"
       },
       "id": "1adcf499-0fa0-454e-bd34-153f964ddcd2"
      }
     }
    }
   },
   "themes": {}
  }
 },
 "nbformat": 4,
 "nbformat_minor": 0
}

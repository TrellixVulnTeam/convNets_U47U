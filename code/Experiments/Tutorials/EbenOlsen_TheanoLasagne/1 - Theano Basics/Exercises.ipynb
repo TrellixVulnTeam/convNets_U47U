{
 "cells": [
  {
   "cell_type": "code",
   "execution_count": 2,
   "metadata": {
    "collapsed": false
   },
   "outputs": [],
   "source": [
    "import numpy as np\n",
    "import theano\n",
    "import theano.tensor as T"
   ]
  },
  {
   "cell_type": "markdown",
   "metadata": {},
   "source": [
    "Exercises\n",
    "====="
   ]
  },
  {
   "cell_type": "markdown",
   "metadata": {},
   "source": [
    "1. Logistic function\n",
    "----------\n",
    "Create an expression for the logistic function $s(x) = \\frac{1}{1+exp(-x)}$. Plot the function and its derivative, and verify that $\\frac{ds}{dx} = s(x)(1-s(x))$."
   ]
  },
  {
   "cell_type": "code",
   "execution_count": 19,
   "metadata": {
    "collapsed": false
   },
   "outputs": [
    {
     "data": {
      "text/plain": [
       "True"
      ]
     },
     "execution_count": 19,
     "metadata": {},
     "output_type": "execute_result"
    },
    {
     "data": {
      "image/png": "[encoded data removed]",
      "text/plain": [
       "<matplotlib.figure.Figure at 0x7f595bb5b910>"
      ]
     },
     "metadata": {},
     "output_type": "display_data"
    }
   ],
   "source": [
    "# %load ./spoilers/logistic.py\n",
    "x = T.vector()\n",
    "s = 1/(1+T.exp(-x))\n",
    "ds = T.grad(T.sum(s), x) # Need sum to make s scalar\n",
    "\n",
    "import matplotlib.pyplot as plt\n",
    "%matplotlib inline\n",
    "\n",
    "x0 = np.arange(-3, 3, 0.01).astype('float32')\n",
    "plt.plot(x0, s.eval({x:x0}))\n",
    "plt.plot(x0, ds.eval({x:x0}))\n",
    "\n",
    "np.allclose(ds.eval({x:x0}), s.eval({x:x0}) * (1-s.eval({x:x0})))"
   ]
  },
  {
   "cell_type": "markdown",
   "metadata": {},
   "source": [
    "2. Fibonacci sequence\n",
    "--------\n",
    "Calculate the 3rd to 10th terms of the sequence, defined by the recurrance relation $F_n = F_{n-2} + F_{n-1}$, with $F_1=1$ and $F_2=1$."
   ]
  },
  {
   "cell_type": "code",
   "execution_count": null,
   "metadata": {
    "collapsed": false
   },
   "outputs": [],
   "source": [
    "# %load spoilers/fib.py\n",
    "a = theano.shared(1)\n",
    "b = theano.shared(1)\n",
    "f = a + b\n",
    "updates = {a: b, b: f}\n",
    "next_term = theano.function([], f, updates=updates)\n",
    "\n",
    "[next_term() for _ in range(3, 10)]"
   ]
  },
  {
   "cell_type": "markdown",
   "metadata": {},
   "source": [
    "3. Game of Life\n",
    "-------\n",
    "Implement [Conway's Game of Life](https://en.wikipedia.org/wiki/Conway%27s_Game_of_Life) with periodic boundary conditions (wrapping borders)."
   ]
  },
  {
   "cell_type": "code",
   "execution_count": 34,
   "metadata": {
    "collapsed": true,
    "slideshow": {
     "slide_type": "slide"
    }
   },
   "outputs": [],
   "source": [
    "board = theano.shared(np.zeros((100, 100), dtype='uint8'))\n",
    "\n",
    "initial = np.random.binomial(1, 0.1, size=(100, 100)).astype('uint8')\n",
    "board.set_value(initial)"
   ]
  },
  {
   "cell_type": "code",
   "execution_count": null,
   "metadata": {
    "collapsed": true
   },
   "outputs": [],
   "source": [
    "# Create a function f that updates board with new values and return the current state\n",
    "# Uncomment the line below and run for a solution\n",
    "#%load spoilers/life.py"
   ]
  },
  {
   "cell_type": "code",
   "execution_count": 44,
   "metadata": {
    "collapsed": false,
    "slideshow": {
     "slide_type": "slide"
    }
   },
   "outputs": [
    {
     "data": {
      "image/png": "[encoded data removed]",
      "text/plain": [
       "<matplotlib.figure.Figure at 0x7f5ac9923dd0>"
      ]
     },
     "metadata": {},
     "output_type": "display_data"
    }
   ],
   "source": [
    "# After creating your f function, run this cell to animate the output\n",
    "%matplotlib notebook\n",
    "import matplotlib.pyplot as plt\n",
    "\n",
    "from IPython import display\n",
    "import time\n",
    "\n",
    "for i in range(50):\n",
    "    plt.gca().cla()\n",
    "    current = f()\n",
    "    plt.imshow(current, interpolation='nearest', cmap='gray')\n",
    "    display.clear_output(wait=True)\n",
    "    display.display(plt.gcf()) \n",
    "    time.sleep(0.1) "
   ]
  }
 ],
 "metadata": {
  "kernelspec": {
   "display_name": "Python 2",
   "language": "python",
   "name": "python2"
  },
  "language_info": {
   "codemirror_mode": {
    "name": "ipython",
    "version": 2
   },
   "file_extension": ".py",
   "mimetype": "text/x-python",
   "name": "python",
   "nbconvert_exporter": "python",
   "pygments_lexer": "ipython2",
   "version": "2.7.12"
  }
 },
 "nbformat": 4,
 "nbformat_minor": 0
}
